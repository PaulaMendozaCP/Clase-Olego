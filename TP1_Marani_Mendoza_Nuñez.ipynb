{
 "cells": [
  {
   "cell_type": "code",
   "execution_count": 8,
   "id": "7968f57e-fbf2-4413-a9b0-99c695c95a0a",
   "metadata": {},
   "outputs": [],
   "source": [
    "import math #Importamos líbreria Math para poder usar raiz cuadrada\n",
    "\n",
    "#definimos nuestra función\n",
    "\n",
    "def primo():\n",
    "  num = int(input(\"Ingrese un número: \")) #pedimos input\n",
    "  if num == 1:\n",
    "        return (\"El nro primo en la posicion 1 es: 2\")\n",
    " #descartamos la primer posición que es 2, ya que es par y sino la fórmula lo saltearía       \n",
    "  cont_primo = 1\n",
    "  ntest = 1\n",
    "#comenzamos contador desde 1, cont_primo es el contador de numeros primos. ntest es una variable y va a ir aumentando hasta llegar a nuestro número primo\n",
    "  while cont_primo < num: #se inicia bucle que corre hasta que el contador llegue al num input\n",
    "      ntest += 1 #se agrega 1 cada vez que corre el bucle\n",
    "      raizcuadrada = int(math.sqrt(ntest)) #se hace hasta raiz cuadrada porque permite descartar todos los divisores     \n",
    "      if ntest % 2 == 0:\n",
    "          continue #lo que se busca es que si el número es par, automaticamente vuelva a correr el bucle\n",
    "      es_primo = True #es una bandera (booleana) sirve para decir que asumimos que si es impar es primo\n",
    "      for n in range(2, raizcuadrada + 1):\n",
    "          if ntest % n == 0:\n",
    "              es_primo = False\n",
    "              break # si el numero es impar pero divisible por cualquier otro divisor que no sea 1 o sí mismo, se rompe el bucle y se indica que no es primo (false)\n",
    "      if es_primo:\n",
    "          cont_primo += 1\n",
    "#si continua significa que el número efectivamente es primo, se suma 1 al contador y vuelve a correr el bucle\n",
    "  print(\"El nro primo en la posicion\", num, \"es:\", ntest)\n",
    "    #pedimos que imprima el último ntest que llego a correr antes de que el bucle termine"
   ]
  },
  {
   "cell_type": "code",
   "execution_count": 14,
   "id": "c3d73883-e437-4329-af81-d3b3dea609fb",
   "metadata": {},
   "outputs": [
    {
     "name": "stdin",
     "output_type": "stream",
     "text": [
      "Ingrese un número:  1300\n"
     ]
    },
    {
     "name": "stdout",
     "output_type": "stream",
     "text": [
      "El nro primo en la posicion 1300 es: 10657\n"
     ]
    }
   ],
   "source": [
    "primo()"
   ]
  },
  {
   "cell_type": "code",
   "execution_count": null,
   "id": "025ce136-74fe-4ab2-a976-87eba492a949",
   "metadata": {},
   "outputs": [],
   "source": []
  }
 ],
 "metadata": {
  "kernelspec": {
   "display_name": "Python 3 (ipykernel)",
   "language": "python",
   "name": "python3"
  },
  "language_info": {
   "codemirror_mode": {
    "name": "ipython",
    "version": 3
   },
   "file_extension": ".py",
   "mimetype": "text/x-python",
   "name": "python",
   "nbconvert_exporter": "python",
   "pygments_lexer": "ipython3",
   "version": "3.12.4"
  }
 },
 "nbformat": 4,
 "nbformat_minor": 5
}
