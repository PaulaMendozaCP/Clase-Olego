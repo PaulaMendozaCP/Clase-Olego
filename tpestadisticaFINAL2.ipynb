{
 "cells": [
  {
   "cell_type": "code",
   "execution_count": 16,
   "id": "4bea7e2e-d61c-45ae-92b8-39d701935285",
   "metadata": {},
   "outputs": [
    {
     "name": "stdout",
     "output_type": "stream",
     "text": [
      "Requirement already satisfied: pyreadstat in c:\\users\\administrator\\anaconda3\\lib\\site-packages (1.2.8)\n",
      "Requirement already satisfied: pandas>=1.2.0 in c:\\users\\administrator\\anaconda3\\lib\\site-packages (from pyreadstat) (2.2.2)\n",
      "Requirement already satisfied: numpy>=1.26.0 in c:\\users\\administrator\\anaconda3\\lib\\site-packages (from pandas>=1.2.0->pyreadstat) (1.26.4)\n",
      "Requirement already satisfied: python-dateutil>=2.8.2 in c:\\users\\administrator\\anaconda3\\lib\\site-packages (from pandas>=1.2.0->pyreadstat) (2.9.0.post0)\n",
      "Requirement already satisfied: pytz>=2020.1 in c:\\users\\administrator\\anaconda3\\lib\\site-packages (from pandas>=1.2.0->pyreadstat) (2024.1)\n",
      "Requirement already satisfied: tzdata>=2022.7 in c:\\users\\administrator\\anaconda3\\lib\\site-packages (from pandas>=1.2.0->pyreadstat) (2023.3)\n",
      "Requirement already satisfied: six>=1.5 in c:\\users\\administrator\\anaconda3\\lib\\site-packages (from python-dateutil>=2.8.2->pandas>=1.2.0->pyreadstat) (1.16.0)\n",
      "                            OLS Regression Results                            \n",
      "==============================================================================\n",
      "Dep. Variable:                 PRO111   R-squared:                       0.056\n",
      "Model:                            OLS   Adj. R-squared:                  0.047\n",
      "Method:                 Least Squares   F-statistic:                     6.428\n",
      "Date:                Sat, 26 Oct 2024   Prob (F-statistic):             0.0127\n",
      "Time:                        17:07:03   Log-Likelihood:                -233.37\n",
      "No. Observations:                 110   AIC:                             470.7\n",
      "Df Residuals:                     108   BIC:                             476.1\n",
      "Df Model:                           1                                         \n",
      "Covariance Type:            nonrobust                                         \n",
      "==============================================================================\n",
      "                 coef    std err          t      P>|t|      [0.025      0.975]\n",
      "------------------------------------------------------------------------------\n",
      "const          9.8008      0.674     14.534      0.000       8.464      11.138\n",
      "ID201         -0.3094      0.122     -2.535      0.013      -0.551      -0.068\n",
      "==============================================================================\n",
      "Omnibus:                       29.639   Durbin-Watson:                   2.171\n",
      "Prob(Omnibus):                  0.000   Jarque-Bera (JB):               43.667\n",
      "Skew:                          -1.313   Prob(JB):                     3.30e-10\n",
      "Kurtosis:                       4.623   Cond. No.                         19.8\n",
      "==============================================================================\n",
      "\n",
      "Notes:\n",
      "[1] Standard Errors assume that the covariance matrix of the errors is correctly specified.\n"
     ]
    },
    {
     "data": {
      "text/plain": [
       "-0.23700488367566835"
      ]
     },
     "execution_count": 16,
     "metadata": {},
     "output_type": "execute_result"
    }
   ],
   "source": [
    "import pandas as pd\n",
    "import numpy as np\n",
    "import statsmodels.api as sm\n",
    "\n",
    "!pip install pyreadstat\n",
    "import pyreadstat\n",
    "file_path = r'C:/Users/Administrator/OneDrive/FSOC/MET OLEGO/clases_estadistica/clases_estadistica/Ejercitación regresión/Ejercitación regresión/BASEDATOS_ARGENTINA_122_.sav'\n",
    "\n",
    "\n",
    "df_diputados, meta = pyreadstat.read_sav(file_path)\n",
    "\n",
    "df_diputados = df_diputados.loc[~((df_diputados['ID101'] == 98) | (df_diputados['ID101'] == 99) | \n",
    "                                   (df_diputados['PRO102'] == 98) | (df_diputados['PRO112'] == 99))]\n",
    "\n",
    "X = df_diputados['ID201']\n",
    "Y = df_diputados['PRO111']\n",
    "\n",
    "X = sm.add_constant (X)\n",
    "\n",
    "modelo = sm.OLS(Y, X). fit()\n",
    "\n",
    "print(modelo.summary())\n",
    "\n",
    "correlacion = df_diputados['ID201'].corr(df_diputados['PRO111'])\n",
    "correlacion"
   ]
  },
  {
   "cell_type": "code",
   "execution_count": 18,
   "id": "2f21429e-cf1a-461c-b079-752552cdaf7e",
   "metadata": {},
   "outputs": [
    {
     "name": "stdout",
     "output_type": "stream",
     "text": [
      "Requirement already satisfied: pyreadstat in c:\\users\\administrator\\anaconda3\\lib\\site-packages (1.2.8)\n",
      "Requirement already satisfied: pandas>=1.2.0 in c:\\users\\administrator\\anaconda3\\lib\\site-packages (from pyreadstat) (2.2.2)\n",
      "Requirement already satisfied: numpy>=1.26.0 in c:\\users\\administrator\\anaconda3\\lib\\site-packages (from pandas>=1.2.0->pyreadstat) (1.26.4)\n",
      "Requirement already satisfied: python-dateutil>=2.8.2 in c:\\users\\administrator\\anaconda3\\lib\\site-packages (from pandas>=1.2.0->pyreadstat) (2.9.0.post0)\n",
      "Requirement already satisfied: pytz>=2020.1 in c:\\users\\administrator\\anaconda3\\lib\\site-packages (from pandas>=1.2.0->pyreadstat) (2024.1)\n",
      "Requirement already satisfied: tzdata>=2022.7 in c:\\users\\administrator\\anaconda3\\lib\\site-packages (from pandas>=1.2.0->pyreadstat) (2023.3)\n",
      "Requirement already satisfied: six>=1.5 in c:\\users\\administrator\\anaconda3\\lib\\site-packages (from python-dateutil>=2.8.2->pandas>=1.2.0->pyreadstat) (1.16.0)\n",
      "                            OLS Regression Results                            \n",
      "==============================================================================\n",
      "Dep. Variable:                  EM101   R-squared:                       0.634\n",
      "Model:                            OLS   Adj. R-squared:                  0.631\n",
      "Method:                 Least Squares   F-statistic:                     187.1\n",
      "Date:                Sat, 26 Oct 2024   Prob (F-statistic):           2.57e-25\n",
      "Time:                        17:08:50   Log-Likelihood:                -196.09\n",
      "No. Observations:                 110   AIC:                             396.2\n",
      "Df Residuals:                     108   BIC:                             401.6\n",
      "Df Model:                           1                                         \n",
      "Covariance Type:            nonrobust                                         \n",
      "==============================================================================\n",
      "                 coef    std err          t      P>|t|      [0.025      0.975]\n",
      "------------------------------------------------------------------------------\n",
      "const          0.1263      0.384      0.329      0.743      -0.634       0.887\n",
      "ID101          1.0230      0.075     13.677      0.000       0.875       1.171\n",
      "==============================================================================\n",
      "Omnibus:                        9.084   Durbin-Watson:                   1.958\n",
      "Prob(Omnibus):                  0.011   Jarque-Bera (JB):               17.547\n",
      "Skew:                          -0.220   Prob(JB):                     0.000155\n",
      "Kurtosis:                       4.907   Cond. No.                         14.7\n",
      "==============================================================================\n",
      "\n",
      "Notes:\n",
      "[1] Standard Errors assume that the covariance matrix of the errors is correctly specified.\n"
     ]
    },
    {
     "data": {
      "text/plain": [
       "0.7962247963104939"
      ]
     },
     "execution_count": 18,
     "metadata": {},
     "output_type": "execute_result"
    }
   ],
   "source": [
    "import pandas as pd\n",
    "import numpy as np\n",
    "import statsmodels.api as sm\n",
    "\n",
    "!pip install pyreadstat\n",
    "import pyreadstat\n",
    "file_path = r'C:/Users/Administrator/OneDrive/FSOC/MET OLEGO/clases_estadistica/clases_estadistica/Ejercitación regresión/Ejercitación regresión/BASEDATOS_ARGENTINA_122_.sav'\n",
    "\n",
    "\n",
    "df_diputados, meta = pyreadstat.read_sav(file_path)\n",
    "\n",
    "df_diputados = df_diputados.loc[~((df_diputados['ID101'] == 98) | (df_diputados['ID101'] == 99) | \n",
    "                                   (df_diputados['PRO102'] == 98) | (df_diputados['PRO112'] == 99))]\n",
    "\n",
    "X = df_diputados['ID101']\n",
    "Y = df_diputados['EM101']\n",
    "\n",
    "X = sm.add_constant (X)\n",
    "\n",
    "modelo = sm.OLS(Y, X). fit()\n",
    "\n",
    "print(modelo.summary())\n",
    "\n",
    "correlacion = df_diputados['ID101'].corr(df_diputados['EM101'])\n",
    "correlacion"
   ]
  },
  {
   "cell_type": "code",
   "execution_count": 21,
   "id": "543ff312-bb0f-49b5-9bde-6f954f0b98d9",
   "metadata": {},
   "outputs": [
    {
     "name": "stdout",
     "output_type": "stream",
     "text": [
      "Requirement already satisfied: pyreadstat in c:\\users\\administrator\\anaconda3\\lib\\site-packages (1.2.8)\n",
      "Requirement already satisfied: pandas>=1.2.0 in c:\\users\\administrator\\anaconda3\\lib\\site-packages (from pyreadstat) (2.2.2)\n",
      "Requirement already satisfied: numpy>=1.26.0 in c:\\users\\administrator\\anaconda3\\lib\\site-packages (from pandas>=1.2.0->pyreadstat) (1.26.4)\n",
      "Requirement already satisfied: python-dateutil>=2.8.2 in c:\\users\\administrator\\anaconda3\\lib\\site-packages (from pandas>=1.2.0->pyreadstat) (2.9.0.post0)\n",
      "Requirement already satisfied: pytz>=2020.1 in c:\\users\\administrator\\anaconda3\\lib\\site-packages (from pandas>=1.2.0->pyreadstat) (2024.1)\n",
      "Requirement already satisfied: tzdata>=2022.7 in c:\\users\\administrator\\anaconda3\\lib\\site-packages (from pandas>=1.2.0->pyreadstat) (2023.3)\n",
      "Requirement already satisfied: six>=1.5 in c:\\users\\administrator\\anaconda3\\lib\\site-packages (from python-dateutil>=2.8.2->pandas>=1.2.0->pyreadstat) (1.16.0)\n",
      "                            OLS Regression Results                            \n",
      "==============================================================================\n",
      "Dep. Variable:                 RED101   R-squared:                       0.008\n",
      "Model:                            OLS   Adj. R-squared:                 -0.001\n",
      "Method:                 Least Squares   F-statistic:                    0.8679\n",
      "Date:                Sat, 26 Oct 2024   Prob (F-statistic):              0.354\n",
      "Time:                        17:09:34   Log-Likelihood:                -152.17\n",
      "No. Observations:                 110   AIC:                             308.3\n",
      "Df Residuals:                     108   BIC:                             313.7\n",
      "Df Model:                           1                                         \n",
      "Covariance Type:            nonrobust                                         \n",
      "==============================================================================\n",
      "                 coef    std err          t      P>|t|      [0.025      0.975]\n",
      "------------------------------------------------------------------------------\n",
      "const          4.1457      0.439      9.442      0.000       3.275       5.016\n",
      "SOCD5          0.0078      0.008      0.932      0.354      -0.009       0.024\n",
      "==============================================================================\n",
      "Omnibus:                       76.204   Durbin-Watson:                   1.945\n",
      "Prob(Omnibus):                  0.000   Jarque-Bera (JB):              304.310\n",
      "Skew:                          -2.588   Prob(JB):                     8.32e-67\n",
      "Kurtosis:                       9.293   Cond. No.                         248.\n",
      "==============================================================================\n",
      "\n",
      "Notes:\n",
      "[1] Standard Errors assume that the covariance matrix of the errors is correctly specified.\n"
     ]
    },
    {
     "data": {
      "text/plain": [
       "0.08928405083151626"
      ]
     },
     "execution_count": 21,
     "metadata": {},
     "output_type": "execute_result"
    }
   ],
   "source": [
    "import pandas as pd\n",
    "import numpy as np\n",
    "import statsmodels.api as sm\n",
    "\n",
    "!pip install pyreadstat\n",
    "import pyreadstat\n",
    "file_path = r'C:/Users/Administrator/OneDrive/FSOC/MET OLEGO/clases_estadistica/clases_estadistica/Ejercitación regresión/Ejercitación regresión/BASEDATOS_ARGENTINA_122_.sav'\n",
    "\n",
    "\n",
    "df_diputados, meta = pyreadstat.read_sav(file_path)\n",
    "\n",
    "df_diputados = df_diputados.loc[~((df_diputados['ID101'] == 98) | (df_diputados['ID101'] == 99) | \n",
    "                                   (df_diputados['PRO102'] == 98) | (df_diputados['PRO112'] == 99))]\n",
    "\n",
    "X = df_diputados['SOCD5']\n",
    "Y = df_diputados['RED101']\n",
    "\n",
    "X = sm.add_constant (X)\n",
    "\n",
    "modelo = sm.OLS(Y, X). fit()\n",
    "\n",
    "print(modelo.summary())\n",
    "\n",
    "correlacion = df_diputados['SOCD5'].corr(df_diputados['RED101'])\n",
    "correlacion"
   ]
  },
  {
   "cell_type": "code",
   "execution_count": null,
   "id": "1bdea25c-ee0f-466e-a6f9-951ea072788b",
   "metadata": {},
   "outputs": [],
   "source": []
  }
 ],
 "metadata": {
  "kernelspec": {
   "display_name": "Python 3 (ipykernel)",
   "language": "python",
   "name": "python3"
  },
  "language_info": {
   "codemirror_mode": {
    "name": "ipython",
    "version": 3
   },
   "file_extension": ".py",
   "mimetype": "text/x-python",
   "name": "python",
   "nbconvert_exporter": "python",
   "pygments_lexer": "ipython3",
   "version": "3.12.4"
  }
 },
 "nbformat": 4,
 "nbformat_minor": 5
}
